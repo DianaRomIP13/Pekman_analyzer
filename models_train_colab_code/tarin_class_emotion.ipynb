{
 "cells": [
  {
   "cell_type": "code",
   "execution_count": 3,
   "metadata": {
    "colab": {
     "base_uri": "https://localhost:8080/"
    },
    "id": "vqUaNSek2ssD",
    "executionInfo": {
     "status": "ok",
     "timestamp": 1705371777498,
     "user_tz": -120,
     "elapsed": 4923,
     "user": {
      "displayName": "ІП-13 Романюк Діана",
      "userId": "08674397109276761927"
     }
    },
    "outputId": "2d65c349-4f72-4c34-f692-9edb032b0d63"
   },
   "outputs": [
    {
     "output_type": "stream",
     "name": "stdout",
     "text": [
      "Drive already mounted at /content/drive; to attempt to forcibly remount, call drive.mount(\"/content/drive\", force_remount=True).\n"
     ]
    }
   ],
   "source": [
    "\n",
    "from keras.preprocessing.image import ImageDataGenerator\n",
    "from keras.models import Sequential\n",
    "from keras.layers import Conv2D, MaxPool2D, BatchNormalization, Dropout, Flatten, Dense, Activation\n",
    "from keras.optimizers import Adam\n",
    "from keras import regularizers\n",
    "import matplotlib.pyplot as plt\n",
    "\n",
    "#import zipfile\n",
    "#import os\n",
    "\n",
    "from google.colab import drive\n",
    "drive.mount('/content/drive')\n",
    "\n",
    "#zip_path = '/content/drive/MyDrive/AI/Pekman/data_arch.zip'\n",
    "\n",
    "#extract_path = '/content/drive/MyDrive/AI/Pekman/'\n",
    "\n",
    "#with zipfile.ZipFile(zip_path, 'r') as zip_ref:\n",
    "    #zip_ref.extractall(extract_path)\n",
    "\n",
    "\n",
    "\n",
    "\n"
   ]
  },
  {
   "cell_type": "code",
   "execution_count": 9,
   "metadata": {
    "colab": {
     "base_uri": "https://localhost:8080/",
     "height": 250
    },
    "id": "qIhBBsWY0Rvy",
    "outputId": "16df4175-2b2c-477e-a906-5265ca9b62fa",
    "executionInfo": {
     "status": "error",
     "timestamp": 1705377651022,
     "user_tz": -120,
     "elapsed": 4,
     "user": {
      "displayName": "ІП-13 Романюк Діана",
      "userId": "08674397109276761927"
     }
    }
   },
   "outputs": [
    {
     "output_type": "error",
     "ename": "TypeError",
     "evalue": "ImageDataGenerator.flow_from_directory() got an unexpected keyword argument 'limit'",
     "traceback": [
      "\u001B[0;31m---------------------------------------------------------------------------\u001B[0m",
      "\u001B[0;31mTypeError\u001B[0m                                 Traceback (most recent call last)",
      "\u001B[0;32m<ipython-input-9-77c614629160>\u001B[0m in \u001B[0;36m<cell line: 22>\u001B[0;34m()\u001B[0m\n\u001B[1;32m     20\u001B[0m \u001B[0;34m\u001B[0m\u001B[0m\n\u001B[1;32m     21\u001B[0m \u001B[0;31m# Передайте train_datagen та test_datagen до flow_from_directory\u001B[0m\u001B[0;34m\u001B[0m\u001B[0;34m\u001B[0m\u001B[0m\n\u001B[0;32m---> 22\u001B[0;31m train_data = train_datagen.flow_from_directory(\n\u001B[0m\u001B[1;32m     23\u001B[0m     \u001B[0mdirectory\u001B[0m\u001B[0;34m=\u001B[0m\u001B[0mtrain_loc\u001B[0m\u001B[0;34m,\u001B[0m\u001B[0;34m\u001B[0m\u001B[0;34m\u001B[0m\u001B[0m\n\u001B[1;32m     24\u001B[0m     \u001B[0mtarget_size\u001B[0m\u001B[0;34m=\u001B[0m\u001B[0;34m(\u001B[0m\u001B[0mimg_size\u001B[0m\u001B[0;34m,\u001B[0m \u001B[0mimg_size\u001B[0m\u001B[0;34m)\u001B[0m\u001B[0;34m,\u001B[0m\u001B[0;34m\u001B[0m\u001B[0;34m\u001B[0m\u001B[0m\n",
      "\u001B[0;31mTypeError\u001B[0m: ImageDataGenerator.flow_from_directory() got an unexpected keyword argument 'limit'"
     ]
    }
   ],
   "source": [
    "train_loc = '/content/drive/MyDrive/AI/Pekman/train'\n",
    "test_loc = '/content/drive/MyDrive/AI/Pekman/test'\n",
    "\n",
    "\n",
    "train_datagen = ImageDataGenerator(\n",
    "    rescale=1./255,\n",
    "    shear_range=0.2,\n",
    "    zoom_range=0.2,\n",
    "    horizontal_flip=True,\n",
    "    validation_split=0.2\n",
    ")\n",
    "\n",
    "test_datagen = ImageDataGenerator(rescale=1./255)\n",
    "\n",
    "img_size = 48\n",
    "\n",
    "train_data = train_datagen.flow_from_directory(\n",
    "    directory=train_loc,\n",
    "    target_size=(img_size, img_size),\n",
    "    batch_size=64,\n",
    "    color_mode=\"grayscale\",\n",
    "    class_mode=\"categorical\",\n",
    "    subset=\"training\"\n",
    ")\n",
    "\n",
    "test_data = test_datagen.flow_from_directory(\n",
    "    directory=test_loc,\n",
    "    target_size=(img_size, img_size),\n",
    "    batch_size=64,\n",
    "    color_mode=\"grayscale\",\n",
    "    class_mode=\"categorical\"\n",
    ")\n",
    "\n",
    "model = Sequential()\n",
    "model.add(Conv2D(32, kernel_size=(3, 3), padding='same', input_shape=(48, 48, 1)))\n",
    "model.add(Activation('mish'))\n",
    "model.add(Conv2D(64, (3, 3), padding='same'))\n",
    "model.add(Activation('mish'))\n",
    "model.add(BatchNormalization())\n",
    "model.add(MaxPool2D(pool_size=(2, 2)))\n",
    "model.add(Dropout(0.25))\n",
    "\n",
    "model.add(Conv2D(128, (5, 5), padding='same'))\n",
    "model.add(Activation('mish'))\n",
    "model.add(BatchNormalization())\n",
    "model.add(MaxPool2D(pool_size=(2, 2)))\n",
    "model.add(Dropout(0.25))\n",
    "\n",
    "model.add(Conv2D(256, (3, 3), padding='same', kernel_regularizer=regularizers.l2(0.01)))\n",
    "model.add(Activation('mish'))\n",
    "model.add(BatchNormalization())\n",
    "model.add(MaxPool2D(pool_size=(2, 2)))\n",
    "model.add(Dropout(0.25))\n",
    "\n",
    "model.add(Flatten())\n",
    "model.add(Dense(128))\n",
    "model.add(Activation('mish'))\n",
    "model.add(BatchNormalization())\n",
    "model.add(Dropout(0.25))\n",
    "\n",
    "model.add(Dense(256))\n",
    "model.add(Activation('mish'))\n",
    "model.add(BatchNormalization())\n",
    "model.add(Dropout(0.25))\n",
    "\n",
    "model.add(Dense(7, activation='softmax'))\n",
    "\n",
    "model.compile(\n",
    "    optimizer=Adam(lr=0.0001),\n",
    "    loss='categorical_crossentropy',\n",
    "    metrics=['accuracy']\n",
    ")\n",
    "\n",
    "epochs = 60\n",
    "batch_size = 64\n",
    "\n",
    "model.summary()\n",
    "\n",
    "history = model.fit(x=train_data, epochs=epochs, validation_data=test_data)\n",
    "\n",
    "fig, ax = plt.subplots(1, 2)\n",
    "train_acc = history.history['accuracy']\n",
    "train_loss = history.history['loss']\n",
    "fig.set_size_inches(12, 4)\n",
    "\n",
    "\n",
    "ax[0].plot(train_acc)\n",
    "if 'val_accuracy' in history.history:\n",
    "    ax[0].plot(history.history['val_accuracy'])\n",
    "    ax[0].legend(['Train', 'Validation'], loc='upper left')\n",
    "else:\n",
    "    ax[0].legend(['Train'], loc='upper left')\n",
    "ax[0].set_title('Training Accuracy vs Validation Accuracy')\n",
    "ax[0].set_ylabel('Accuracy')\n",
    "ax[0].set_xlabel('Epoch')\n",
    "\n",
    "ax[1].plot(train_loss)\n",
    "if 'val_loss' in history.history:\n",
    "    ax[1].plot(history.history['val_loss'])\n",
    "    ax[1].legend(['Train', 'Validation'], loc='upper left')\n",
    "else:\n",
    "    ax[1].legend(['Train'], loc='upper left')\n",
    "ax[1].set_title('Training Loss vs Validation Loss')\n",
    "ax[1].set_ylabel('Loss')\n",
    "ax[1].set_xlabel('Epoch')\n",
    "\n",
    "plt.show()\n",
    "\n",
    "model.save('/content/drive/MyDrive/AI/Pekman/my_data/emotions_class_model.h5')\n",
    "\n"
   ]
  },
  {
   "cell_type": "code",
   "source": [],
   "metadata": {
    "id": "1GLNpZqLafGC"
   },
   "execution_count": null,
   "outputs": []
  }
 ],
 "metadata": {
  "accelerator": "GPU",
  "colab": {
   "provenance": [],
   "mount_file_id": "1T8yjxzh-3itMSUEMOd9encxuJUq-TorX",
   "authorship_tag": "ABX9TyNrkkXEqc/3m65jZdt5/8Wt"
  },
  "kernelspec": {
   "display_name": "Python 3",
   "name": "python3"
  },
  "language_info": {
   "name": "python"
  }
 },
 "nbformat": 4,
 "nbformat_minor": 0
}
